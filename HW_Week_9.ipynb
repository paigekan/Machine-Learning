{
  "nbformat": 4,
  "nbformat_minor": 0,
  "metadata": {
    "colab": {
      "provenance": [],
      "include_colab_link": true
    },
    "kernelspec": {
      "name": "python3",
      "display_name": "Python 3"
    },
    "language_info": {
      "name": "python"
    }
  },
  "cells": [
    {
      "cell_type": "markdown",
      "metadata": {
        "id": "view-in-github",
        "colab_type": "text"
      },
      "source": [
        "<a href=\"https://colab.research.google.com/github/paigekan/Machine-Learning/blob/main/HW_Week_9.ipynb\" target=\"_parent\"><img src=\"https://colab.research.google.com/assets/colab-badge.svg\" alt=\"Open In Colab\"/></a>"
      ]
    },
    {
      "cell_type": "markdown",
      "source": [
        "# 0.) Import and Clean data"
      ],
      "metadata": {
        "id": "7ywSRtNI4s5h"
      }
    },
    {
      "cell_type": "code",
      "execution_count": 1,
      "metadata": {
        "id": "nsG1QV154GYZ"
      },
      "outputs": [],
      "source": [
        "import pandas as pd\n",
        "from google.colab import drive\n",
        "import matplotlib.pyplot as plt\n",
        "import numpy as np"
      ]
    },
    {
      "cell_type": "code",
      "source": [
        "from sklearn.preprocessing import StandardScaler\n",
        "from sklearn.cluster import KMeans"
      ],
      "metadata": {
        "id": "lFEZb7-YfvAj"
      },
      "execution_count": 2,
      "outputs": []
    },
    {
      "cell_type": "code",
      "source": [
        "drive.mount('/content/gdrive/', force_remount = True)"
      ],
      "metadata": {
        "colab": {
          "base_uri": "https://localhost:8080/"
        },
        "id": "Iku0T8Ou4Lcu",
        "outputId": "67cb5358-5902-4b8f-d1b8-bcaa68fc9959"
      },
      "execution_count": 3,
      "outputs": [
        {
          "output_type": "stream",
          "name": "stdout",
          "text": [
            "Mounted at /content/gdrive/\n"
          ]
        }
      ]
    },
    {
      "cell_type": "code",
      "source": [
        "df = pd.read_csv(\"/content/gdrive/MyDrive/Econ441B/Country-data.csv\", sep = \",\")"
      ],
      "metadata": {
        "id": "KJQfo8mz43Kz"
      },
      "execution_count": 81,
      "outputs": []
    },
    {
      "cell_type": "code",
      "source": [
        "df.head()"
      ],
      "metadata": {
        "colab": {
          "base_uri": "https://localhost:8080/",
          "height": 305
        },
        "id": "mKWSRv-q98wE",
        "outputId": "3e1d7267-0727-4298-dbad-10dbb3fc4d9b"
      },
      "execution_count": 82,
      "outputs": [
        {
          "output_type": "execute_result",
          "data": {
            "text/plain": [
              "               country  child_mort  exports  health  imports  income  \\\n",
              "0          Afghanistan        90.2     10.0    7.58     44.9    1610   \n",
              "1              Albania        16.6     28.0    6.55     48.6    9930   \n",
              "2              Algeria        27.3     38.4    4.17     31.4   12900   \n",
              "3               Angola       119.0     62.3    2.85     42.9    5900   \n",
              "4  Antigua and Barbuda        10.3     45.5    6.03     58.9   19100   \n",
              "\n",
              "   inflation  life_expec  total_fer   gdpp  \n",
              "0       9.44        56.2       5.82    553  \n",
              "1       4.49        76.3       1.65   4090  \n",
              "2      16.10        76.5       2.89   4460  \n",
              "3      22.40        60.1       6.16   3530  \n",
              "4       1.44        76.8       2.13  12200  "
            ],
            "text/html": [
              "\n",
              "  <div id=\"df-504f2892-6cc3-4871-ab65-dc13f86e5073\">\n",
              "    <div class=\"colab-df-container\">\n",
              "      <div>\n",
              "<style scoped>\n",
              "    .dataframe tbody tr th:only-of-type {\n",
              "        vertical-align: middle;\n",
              "    }\n",
              "\n",
              "    .dataframe tbody tr th {\n",
              "        vertical-align: top;\n",
              "    }\n",
              "\n",
              "    .dataframe thead th {\n",
              "        text-align: right;\n",
              "    }\n",
              "</style>\n",
              "<table border=\"1\" class=\"dataframe\">\n",
              "  <thead>\n",
              "    <tr style=\"text-align: right;\">\n",
              "      <th></th>\n",
              "      <th>country</th>\n",
              "      <th>child_mort</th>\n",
              "      <th>exports</th>\n",
              "      <th>health</th>\n",
              "      <th>imports</th>\n",
              "      <th>income</th>\n",
              "      <th>inflation</th>\n",
              "      <th>life_expec</th>\n",
              "      <th>total_fer</th>\n",
              "      <th>gdpp</th>\n",
              "    </tr>\n",
              "  </thead>\n",
              "  <tbody>\n",
              "    <tr>\n",
              "      <th>0</th>\n",
              "      <td>Afghanistan</td>\n",
              "      <td>90.2</td>\n",
              "      <td>10.0</td>\n",
              "      <td>7.58</td>\n",
              "      <td>44.9</td>\n",
              "      <td>1610</td>\n",
              "      <td>9.44</td>\n",
              "      <td>56.2</td>\n",
              "      <td>5.82</td>\n",
              "      <td>553</td>\n",
              "    </tr>\n",
              "    <tr>\n",
              "      <th>1</th>\n",
              "      <td>Albania</td>\n",
              "      <td>16.6</td>\n",
              "      <td>28.0</td>\n",
              "      <td>6.55</td>\n",
              "      <td>48.6</td>\n",
              "      <td>9930</td>\n",
              "      <td>4.49</td>\n",
              "      <td>76.3</td>\n",
              "      <td>1.65</td>\n",
              "      <td>4090</td>\n",
              "    </tr>\n",
              "    <tr>\n",
              "      <th>2</th>\n",
              "      <td>Algeria</td>\n",
              "      <td>27.3</td>\n",
              "      <td>38.4</td>\n",
              "      <td>4.17</td>\n",
              "      <td>31.4</td>\n",
              "      <td>12900</td>\n",
              "      <td>16.10</td>\n",
              "      <td>76.5</td>\n",
              "      <td>2.89</td>\n",
              "      <td>4460</td>\n",
              "    </tr>\n",
              "    <tr>\n",
              "      <th>3</th>\n",
              "      <td>Angola</td>\n",
              "      <td>119.0</td>\n",
              "      <td>62.3</td>\n",
              "      <td>2.85</td>\n",
              "      <td>42.9</td>\n",
              "      <td>5900</td>\n",
              "      <td>22.40</td>\n",
              "      <td>60.1</td>\n",
              "      <td>6.16</td>\n",
              "      <td>3530</td>\n",
              "    </tr>\n",
              "    <tr>\n",
              "      <th>4</th>\n",
              "      <td>Antigua and Barbuda</td>\n",
              "      <td>10.3</td>\n",
              "      <td>45.5</td>\n",
              "      <td>6.03</td>\n",
              "      <td>58.9</td>\n",
              "      <td>19100</td>\n",
              "      <td>1.44</td>\n",
              "      <td>76.8</td>\n",
              "      <td>2.13</td>\n",
              "      <td>12200</td>\n",
              "    </tr>\n",
              "  </tbody>\n",
              "</table>\n",
              "</div>\n",
              "      <button class=\"colab-df-convert\" onclick=\"convertToInteractive('df-504f2892-6cc3-4871-ab65-dc13f86e5073')\"\n",
              "              title=\"Convert this dataframe to an interactive table.\"\n",
              "              style=\"display:none;\">\n",
              "        \n",
              "  <svg xmlns=\"http://www.w3.org/2000/svg\" height=\"24px\"viewBox=\"0 0 24 24\"\n",
              "       width=\"24px\">\n",
              "    <path d=\"M0 0h24v24H0V0z\" fill=\"none\"/>\n",
              "    <path d=\"M18.56 5.44l.94 2.06.94-2.06 2.06-.94-2.06-.94-.94-2.06-.94 2.06-2.06.94zm-11 1L8.5 8.5l.94-2.06 2.06-.94-2.06-.94L8.5 2.5l-.94 2.06-2.06.94zm10 10l.94 2.06.94-2.06 2.06-.94-2.06-.94-.94-2.06-.94 2.06-2.06.94z\"/><path d=\"M17.41 7.96l-1.37-1.37c-.4-.4-.92-.59-1.43-.59-.52 0-1.04.2-1.43.59L10.3 9.45l-7.72 7.72c-.78.78-.78 2.05 0 2.83L4 21.41c.39.39.9.59 1.41.59.51 0 1.02-.2 1.41-.59l7.78-7.78 2.81-2.81c.8-.78.8-2.07 0-2.86zM5.41 20L4 18.59l7.72-7.72 1.47 1.35L5.41 20z\"/>\n",
              "  </svg>\n",
              "      </button>\n",
              "      \n",
              "  <style>\n",
              "    .colab-df-container {\n",
              "      display:flex;\n",
              "      flex-wrap:wrap;\n",
              "      gap: 12px;\n",
              "    }\n",
              "\n",
              "    .colab-df-convert {\n",
              "      background-color: #E8F0FE;\n",
              "      border: none;\n",
              "      border-radius: 50%;\n",
              "      cursor: pointer;\n",
              "      display: none;\n",
              "      fill: #1967D2;\n",
              "      height: 32px;\n",
              "      padding: 0 0 0 0;\n",
              "      width: 32px;\n",
              "    }\n",
              "\n",
              "    .colab-df-convert:hover {\n",
              "      background-color: #E2EBFA;\n",
              "      box-shadow: 0px 1px 2px rgba(60, 64, 67, 0.3), 0px 1px 3px 1px rgba(60, 64, 67, 0.15);\n",
              "      fill: #174EA6;\n",
              "    }\n",
              "\n",
              "    [theme=dark] .colab-df-convert {\n",
              "      background-color: #3B4455;\n",
              "      fill: #D2E3FC;\n",
              "    }\n",
              "\n",
              "    [theme=dark] .colab-df-convert:hover {\n",
              "      background-color: #434B5C;\n",
              "      box-shadow: 0px 1px 3px 1px rgba(0, 0, 0, 0.15);\n",
              "      filter: drop-shadow(0px 1px 2px rgba(0, 0, 0, 0.3));\n",
              "      fill: #FFFFFF;\n",
              "    }\n",
              "  </style>\n",
              "\n",
              "      <script>\n",
              "        const buttonEl =\n",
              "          document.querySelector('#df-504f2892-6cc3-4871-ab65-dc13f86e5073 button.colab-df-convert');\n",
              "        buttonEl.style.display =\n",
              "          google.colab.kernel.accessAllowed ? 'block' : 'none';\n",
              "\n",
              "        async function convertToInteractive(key) {\n",
              "          const element = document.querySelector('#df-504f2892-6cc3-4871-ab65-dc13f86e5073');\n",
              "          const dataTable =\n",
              "            await google.colab.kernel.invokeFunction('convertToInteractive',\n",
              "                                                     [key], {});\n",
              "          if (!dataTable) return;\n",
              "\n",
              "          const docLinkHtml = 'Like what you see? Visit the ' +\n",
              "            '<a target=\"_blank\" href=https://colab.research.google.com/notebooks/data_table.ipynb>data table notebook</a>'\n",
              "            + ' to learn more about interactive tables.';\n",
              "          element.innerHTML = '';\n",
              "          dataTable['output_type'] = 'display_data';\n",
              "          await google.colab.output.renderOutput(dataTable, element);\n",
              "          const docLink = document.createElement('div');\n",
              "          docLink.innerHTML = docLinkHtml;\n",
              "          element.appendChild(docLink);\n",
              "        }\n",
              "      </script>\n",
              "    </div>\n",
              "  </div>\n",
              "  "
            ]
          },
          "metadata": {},
          "execution_count": 82
        }
      ]
    },
    {
      "cell_type": "code",
      "source": [
        "df.columns"
      ],
      "metadata": {
        "colab": {
          "base_uri": "https://localhost:8080/"
        },
        "id": "Oj-k5XJNCNOr",
        "outputId": "09408946-d970-4267-e7b9-db6091f96938"
      },
      "execution_count": 83,
      "outputs": [
        {
          "output_type": "execute_result",
          "data": {
            "text/plain": [
              "Index(['country', 'child_mort', 'exports', 'health', 'imports', 'income',\n",
              "       'inflation', 'life_expec', 'total_fer', 'gdpp'],\n",
              "      dtype='object')"
            ]
          },
          "metadata": {},
          "execution_count": 83
        }
      ]
    },
    {
      "cell_type": "code",
      "source": [
        "names = df[[\"country\"]]\n",
        "X = df.drop([\"country\"], axis = 1)"
      ],
      "metadata": {
        "id": "amzzWZ-G9SNe"
      },
      "execution_count": 84,
      "outputs": []
    },
    {
      "cell_type": "code",
      "source": [
        "# Scale features\n",
        "scaler = StandardScaler().fit(X)\n",
        "X_scaled = scaler.transform(X)"
      ],
      "metadata": {
        "id": "PavsPgGU9Rrx"
      },
      "execution_count": 85,
      "outputs": []
    },
    {
      "cell_type": "markdown",
      "source": [
        "# 1.) Fit a kmeans Model with any Number of Clusters"
      ],
      "metadata": {
        "id": "YLn6XlFqMaCY"
      }
    },
    {
      "cell_type": "code",
      "source": [
        "kmeans = KMeans(n_clusters = 5,\n",
        "                random_state=42).fit(X_scaled)"
      ],
      "metadata": {
        "id": "ntDMWRN-8yAi",
        "colab": {
          "base_uri": "https://localhost:8080/"
        },
        "outputId": "0e33a1fa-8a4e-4991-f7a9-b0b33e9a3d88"
      },
      "execution_count": 86,
      "outputs": [
        {
          "output_type": "stream",
          "name": "stderr",
          "text": [
            "/usr/local/lib/python3.9/dist-packages/sklearn/cluster/_kmeans.py:870: FutureWarning: The default value of `n_init` will change from 10 to 'auto' in 1.4. Set the value of `n_init` explicitly to suppress the warning\n",
            "  warnings.warn(\n"
          ]
        }
      ]
    },
    {
      "cell_type": "markdown",
      "source": [
        "# 2.) Pick two features to visualize across"
      ],
      "metadata": {
        "id": "LkpVmNYRMtyq"
      }
    },
    {
      "cell_type": "code",
      "source": [
        "X.columns"
      ],
      "metadata": {
        "colab": {
          "base_uri": "https://localhost:8080/"
        },
        "id": "oTmfYVYrN53a",
        "outputId": "f2303595-cee9-440c-e84c-6f3b34383c29"
      },
      "execution_count": 87,
      "outputs": [
        {
          "output_type": "execute_result",
          "data": {
            "text/plain": [
              "Index(['child_mort', 'exports', 'health', 'imports', 'income', 'inflation',\n",
              "       'life_expec', 'total_fer', 'gdpp'],\n",
              "      dtype='object')"
            ]
          },
          "metadata": {},
          "execution_count": 87
        }
      ]
    },
    {
      "cell_type": "code",
      "source": [
        "# CHANGE THESE BASED ON WHICH IS INTERESTING TO YOU\n",
        "x1_index = 6 # life_expec\n",
        "x2_index = 8 # gdpp\n",
        "\n",
        "# Color-code the points (countries) based on their cluster label\n",
        "plt.scatter(X_scaled[:, x1_index], X_scaled[:, x2_index], c=kmeans.labels_, cmap='plasma')\n",
        "\n",
        "# Plot the centroids of each cluster\n",
        "plt.scatter(kmeans.cluster_centers_[:, x1_index], kmeans.cluster_centers_[:, x2_index], marker='o', color='green', s=100)\n",
        "\n",
        "plt.xlabel(X.columns[x1_index])\n",
        "plt.ylabel(X.columns[x2_index])\n",
        "plt.title('Scatter Plot of Countries')\n",
        "plt.legend([\"Group 1\", \"Center\", \"Group 2\"])\n",
        "plt.grid()\n",
        "plt.show()"
      ],
      "metadata": {
        "id": "GksDZxUsDbzM",
        "colab": {
          "base_uri": "https://localhost:8080/",
          "height": 296
        },
        "outputId": "7783ceda-a74a-4487-ea42-63fb56df7cc1"
      },
      "execution_count": 88,
      "outputs": [
        {
          "output_type": "display_data",
          "data": {
            "text/plain": [
              "<Figure size 432x288 with 1 Axes>"
            ],
            "image/png": "[encoded data removed]"
          },
          "metadata": {
            "needs_background": "light"
          }
        }
      ]
    },
    {
      "cell_type": "markdown",
      "source": [
        "Note: We fit our K-means algorithm on 9 variables, but we're only visualizing 2 in this graph."
      ],
      "metadata": {
        "id": "mkWxW3WbfT5R"
      }
    },
    {
      "cell_type": "markdown",
      "source": [
        "# 3.) Check a range of k-clusters and visualize to find the elbow. Test 30 different random starting places for the centroid means\n",
        " "
      ],
      "metadata": {
        "id": "827DR0zsOkNA"
      }
    },
    {
      "cell_type": "code",
      "source": [
        "WCSSs = [] # list to store the within-cluster sum of squares (WCSS) for each iteration\n",
        "Ks = range(1, 15)\n",
        "for k in Ks:\n",
        "  kmeans = KMeans(n_clusters = k, init = \"random\", n_init = 30)\n",
        "  kmeans.fit(X_scaled)\n",
        "  WCSSs.append(kmeans.inertia_)\n",
        "  # kmeans.inertia_ represents the sum of squared distances of samples \n",
        "  # to their closest cluster center"
      ],
      "metadata": {
        "id": "2_YuJa4IFKda"
      },
      "execution_count": 92,
      "outputs": []
    },
    {
      "cell_type": "code",
      "source": [
        "# In one line\n",
        "#WCSSs = [KMeans(n_clusters = k, init = \"random\", n_init = 30).fit(X_scaled).inertia_ for k in range(1,15)]"
      ],
      "metadata": {
        "id": "mNuzJ0NvZC5F"
      },
      "execution_count": null,
      "outputs": []
    },
    {
      "cell_type": "code",
      "source": [
        "WCSSs"
      ],
      "metadata": {
        "colab": {
          "base_uri": "https://localhost:8080/"
        },
        "id": "fdnf3bIFg4Zg",
        "outputId": "8a8ff070-edf6-4845-e07e-bf6f90611a80"
      },
      "execution_count": 93,
      "outputs": [
        {
          "output_type": "execute_result",
          "data": {
            "text/plain": [
              "[1503.0,\n",
              " 1050.2145582853307,\n",
              " 831.4244352086876,\n",
              " 700.3229986404376,\n",
              " 631.2572342807226,\n",
              " 570.3318803839963,\n",
              " 509.05670295827656,\n",
              " 466.46173539101744,\n",
              " 427.02847554449534,\n",
              " 393.83923476154155,\n",
              " 380.12629122137326,\n",
              " 360.0144445835381,\n",
              " 332.58546602127774,\n",
              " 319.9855286239425]"
            ]
          },
          "metadata": {},
          "execution_count": 93
        }
      ]
    },
    {
      "cell_type": "code",
      "source": [
        "# Visualize Elbow Method\n",
        "plt.plot(WCSSs)\n",
        "plt.xlabel(\"Number of Clusters\")\n",
        "plt.ylabel(\"WCSS\")\n",
        "plt.show()"
      ],
      "metadata": {
        "colab": {
          "base_uri": "https://localhost:8080/",
          "height": 279
        },
        "id": "cy6XfqEufm_8",
        "outputId": "9f6ec395-4977-4849-fc02-9e8fd7ad1cfd"
      },
      "execution_count": 94,
      "outputs": [
        {
          "output_type": "display_data",
          "data": {
            "text/plain": [
              "<Figure size 432x288 with 1 Axes>"
            ],
            "image/png": "[encoded data removed]"
          },
          "metadata": {
            "needs_background": "light"
          }
        }
      ]
    },
    {
      "cell_type": "markdown",
      "source": [
        "Based on the Elbow Method, the optimal number of clusters appears to be approximately K = 8."
      ],
      "metadata": {
        "id": "USZCRuzLhLr2"
      }
    },
    {
      "cell_type": "markdown",
      "source": [
        "# 4.) Use the above work and economic critical thinking to choose a number of clusters. Explain why you chose the number of clusters and fit a model accordingly."
      ],
      "metadata": {
        "id": "aNEDRA7XPkMN"
      }
    },
    {
      "cell_type": "code",
      "source": [
        "# Choose a number of clusters\n",
        "k = 4\n",
        "\n",
        "# Fit the model\n",
        "kmeans = KMeans(n_clusters = k, init = \"random\", n_init = 30).fit(X_scaled)"
      ],
      "metadata": {
        "id": "o0TG8sABQake"
      },
      "execution_count": 117,
      "outputs": []
    },
    {
      "cell_type": "markdown",
      "source": [
        "Based on the above plot and the fact that the World Bank categorizes nations into 4 groups—low, lower-middle, upper-middle, and high—when classifying national economies, I chose the number of clusters to be K = 4. I am interested to see how the clusters identified by K-means compare with those classified by the World Bank."
      ],
      "metadata": {
        "id": "dhVsowltag7_"
      }
    },
    {
      "cell_type": "markdown",
      "source": [
        "# 5.) Create a list of the countries that are in each cluster. Write interesting things you notice. Hint : Use .predict(method)"
      ],
      "metadata": {
        "id": "Z6xfLRZIRfdl"
      }
    },
    {
      "cell_type": "code",
      "source": [
        "preds = pd.DataFrame(kmeans.predict(X_scaled))\n",
        "preds # this outputs the cluster label for each country, in order of original df"
      ],
      "metadata": {
        "id": "fGuVFuzxStqP",
        "colab": {
          "base_uri": "https://localhost:8080/",
          "height": 424
        },
        "outputId": "4e405337-487c-44bc-c5c0-e5eae9e8fb45"
      },
      "execution_count": 118,
      "outputs": [
        {
          "output_type": "execute_result",
          "data": {
            "text/plain": [
              "     0\n",
              "0    0\n",
              "1    2\n",
              "2    2\n",
              "3    0\n",
              "4    2\n",
              "..  ..\n",
              "162  2\n",
              "163  2\n",
              "164  2\n",
              "165  0\n",
              "166  0\n",
              "\n",
              "[167 rows x 1 columns]"
            ],
            "text/html": [
              "\n",
              "  <div id=\"df-5fd62f2f-a743-4ab1-8691-b9c526b6faf1\">\n",
              "    <div class=\"colab-df-container\">\n",
              "      <div>\n",
              "<style scoped>\n",
              "    .dataframe tbody tr th:only-of-type {\n",
              "        vertical-align: middle;\n",
              "    }\n",
              "\n",
              "    .dataframe tbody tr th {\n",
              "        vertical-align: top;\n",
              "    }\n",
              "\n",
              "    .dataframe thead th {\n",
              "        text-align: right;\n",
              "    }\n",
              "</style>\n",
              "<table border=\"1\" class=\"dataframe\">\n",
              "  <thead>\n",
              "    <tr style=\"text-align: right;\">\n",
              "      <th></th>\n",
              "      <th>0</th>\n",
              "    </tr>\n",
              "  </thead>\n",
              "  <tbody>\n",
              "    <tr>\n",
              "      <th>0</th>\n",
              "      <td>0</td>\n",
              "    </tr>\n",
              "    <tr>\n",
              "      <th>1</th>\n",
              "      <td>2</td>\n",
              "    </tr>\n",
              "    <tr>\n",
              "      <th>2</th>\n",
              "      <td>2</td>\n",
              "    </tr>\n",
              "    <tr>\n",
              "      <th>3</th>\n",
              "      <td>0</td>\n",
              "    </tr>\n",
              "    <tr>\n",
              "      <th>4</th>\n",
              "      <td>2</td>\n",
              "    </tr>\n",
              "    <tr>\n",
              "      <th>...</th>\n",
              "      <td>...</td>\n",
              "    </tr>\n",
              "    <tr>\n",
              "      <th>162</th>\n",
              "      <td>2</td>\n",
              "    </tr>\n",
              "    <tr>\n",
              "      <th>163</th>\n",
              "      <td>2</td>\n",
              "    </tr>\n",
              "    <tr>\n",
              "      <th>164</th>\n",
              "      <td>2</td>\n",
              "    </tr>\n",
              "    <tr>\n",
              "      <th>165</th>\n",
              "      <td>0</td>\n",
              "    </tr>\n",
              "    <tr>\n",
              "      <th>166</th>\n",
              "      <td>0</td>\n",
              "    </tr>\n",
              "  </tbody>\n",
              "</table>\n",
              "<p>167 rows × 1 columns</p>\n",
              "</div>\n",
              "      <button class=\"colab-df-convert\" onclick=\"convertToInteractive('df-5fd62f2f-a743-4ab1-8691-b9c526b6faf1')\"\n",
              "              title=\"Convert this dataframe to an interactive table.\"\n",
              "              style=\"display:none;\">\n",
              "        \n",
              "  <svg xmlns=\"http://www.w3.org/2000/svg\" height=\"24px\"viewBox=\"0 0 24 24\"\n",
              "       width=\"24px\">\n",
              "    <path d=\"M0 0h24v24H0V0z\" fill=\"none\"/>\n",
              "    <path d=\"M18.56 5.44l.94 2.06.94-2.06 2.06-.94-2.06-.94-.94-2.06-.94 2.06-2.06.94zm-11 1L8.5 8.5l.94-2.06 2.06-.94-2.06-.94L8.5 2.5l-.94 2.06-2.06.94zm10 10l.94 2.06.94-2.06 2.06-.94-2.06-.94-.94-2.06-.94 2.06-2.06.94z\"/><path d=\"M17.41 7.96l-1.37-1.37c-.4-.4-.92-.59-1.43-.59-.52 0-1.04.2-1.43.59L10.3 9.45l-7.72 7.72c-.78.78-.78 2.05 0 2.83L4 21.41c.39.39.9.59 1.41.59.51 0 1.02-.2 1.41-.59l7.78-7.78 2.81-2.81c.8-.78.8-2.07 0-2.86zM5.41 20L4 18.59l7.72-7.72 1.47 1.35L5.41 20z\"/>\n",
              "  </svg>\n",
              "      </button>\n",
              "      \n",
              "  <style>\n",
              "    .colab-df-container {\n",
              "      display:flex;\n",
              "      flex-wrap:wrap;\n",
              "      gap: 12px;\n",
              "    }\n",
              "\n",
              "    .colab-df-convert {\n",
              "      background-color: #E8F0FE;\n",
              "      border: none;\n",
              "      border-radius: 50%;\n",
              "      cursor: pointer;\n",
              "      display: none;\n",
              "      fill: #1967D2;\n",
              "      height: 32px;\n",
              "      padding: 0 0 0 0;\n",
              "      width: 32px;\n",
              "    }\n",
              "\n",
              "    .colab-df-convert:hover {\n",
              "      background-color: #E2EBFA;\n",
              "      box-shadow: 0px 1px 2px rgba(60, 64, 67, 0.3), 0px 1px 3px 1px rgba(60, 64, 67, 0.15);\n",
              "      fill: #174EA6;\n",
              "    }\n",
              "\n",
              "    [theme=dark] .colab-df-convert {\n",
              "      background-color: #3B4455;\n",
              "      fill: #D2E3FC;\n",
              "    }\n",
              "\n",
              "    [theme=dark] .colab-df-convert:hover {\n",
              "      background-color: #434B5C;\n",
              "      box-shadow: 0px 1px 3px 1px rgba(0, 0, 0, 0.15);\n",
              "      filter: drop-shadow(0px 1px 2px rgba(0, 0, 0, 0.3));\n",
              "      fill: #FFFFFF;\n",
              "    }\n",
              "  </style>\n",
              "\n",
              "      <script>\n",
              "        const buttonEl =\n",
              "          document.querySelector('#df-5fd62f2f-a743-4ab1-8691-b9c526b6faf1 button.colab-df-convert');\n",
              "        buttonEl.style.display =\n",
              "          google.colab.kernel.accessAllowed ? 'block' : 'none';\n",
              "\n",
              "        async function convertToInteractive(key) {\n",
              "          const element = document.querySelector('#df-5fd62f2f-a743-4ab1-8691-b9c526b6faf1');\n",
              "          const dataTable =\n",
              "            await google.colab.kernel.invokeFunction('convertToInteractive',\n",
              "                                                     [key], {});\n",
              "          if (!dataTable) return;\n",
              "\n",
              "          const docLinkHtml = 'Like what you see? Visit the ' +\n",
              "            '<a target=\"_blank\" href=https://colab.research.google.com/notebooks/data_table.ipynb>data table notebook</a>'\n",
              "            + ' to learn more about interactive tables.';\n",
              "          element.innerHTML = '';\n",
              "          dataTable['output_type'] = 'display_data';\n",
              "          await google.colab.output.renderOutput(dataTable, element);\n",
              "          const docLink = document.createElement('div');\n",
              "          docLink.innerHTML = docLinkHtml;\n",
              "          element.appendChild(docLink);\n",
              "        }\n",
              "      </script>\n",
              "    </div>\n",
              "  </div>\n",
              "  "
            ]
          },
          "metadata": {},
          "execution_count": 118
        }
      ]
    },
    {
      "cell_type": "code",
      "source": [
        "# Concatenate country name and corresponding cluster label into one table \n",
        "output = pd.concat([preds, names], axis = 1)\n",
        "output"
      ],
      "metadata": {
        "colab": {
          "base_uri": "https://localhost:8080/",
          "height": 424
        },
        "id": "h5qeg6P0c42G",
        "outputId": "de5d40bb-3ff4-4738-e5ba-fce1db2466fa"
      },
      "execution_count": 119,
      "outputs": [
        {
          "output_type": "execute_result",
          "data": {
            "text/plain": [
              "     0              country\n",
              "0    0          Afghanistan\n",
              "1    2              Albania\n",
              "2    2              Algeria\n",
              "3    0               Angola\n",
              "4    2  Antigua and Barbuda\n",
              "..  ..                  ...\n",
              "162  2              Vanuatu\n",
              "163  2            Venezuela\n",
              "164  2              Vietnam\n",
              "165  0                Yemen\n",
              "166  0               Zambia\n",
              "\n",
              "[167 rows x 2 columns]"
            ],
            "text/html": [
              "\n",
              "  <div id=\"df-84e3552a-0283-4c6e-8df7-4ec81a02f50c\">\n",
              "    <div class=\"colab-df-container\">\n",
              "      <div>\n",
              "<style scoped>\n",
              "    .dataframe tbody tr th:only-of-type {\n",
              "        vertical-align: middle;\n",
              "    }\n",
              "\n",
              "    .dataframe tbody tr th {\n",
              "        vertical-align: top;\n",
              "    }\n",
              "\n",
              "    .dataframe thead th {\n",
              "        text-align: right;\n",
              "    }\n",
              "</style>\n",
              "<table border=\"1\" class=\"dataframe\">\n",
              "  <thead>\n",
              "    <tr style=\"text-align: right;\">\n",
              "      <th></th>\n",
              "      <th>0</th>\n",
              "      <th>country</th>\n",
              "    </tr>\n",
              "  </thead>\n",
              "  <tbody>\n",
              "    <tr>\n",
              "      <th>0</th>\n",
              "      <td>0</td>\n",
              "      <td>Afghanistan</td>\n",
              "    </tr>\n",
              "    <tr>\n",
              "      <th>1</th>\n",
              "      <td>2</td>\n",
              "      <td>Albania</td>\n",
              "    </tr>\n",
              "    <tr>\n",
              "      <th>2</th>\n",
              "      <td>2</td>\n",
              "      <td>Algeria</td>\n",
              "    </tr>\n",
              "    <tr>\n",
              "      <th>3</th>\n",
              "      <td>0</td>\n",
              "      <td>Angola</td>\n",
              "    </tr>\n",
              "    <tr>\n",
              "      <th>4</th>\n",
              "      <td>2</td>\n",
              "      <td>Antigua and Barbuda</td>\n",
              "    </tr>\n",
              "    <tr>\n",
              "      <th>...</th>\n",
              "      <td>...</td>\n",
              "      <td>...</td>\n",
              "    </tr>\n",
              "    <tr>\n",
              "      <th>162</th>\n",
              "      <td>2</td>\n",
              "      <td>Vanuatu</td>\n",
              "    </tr>\n",
              "    <tr>\n",
              "      <th>163</th>\n",
              "      <td>2</td>\n",
              "      <td>Venezuela</td>\n",
              "    </tr>\n",
              "    <tr>\n",
              "      <th>164</th>\n",
              "      <td>2</td>\n",
              "      <td>Vietnam</td>\n",
              "    </tr>\n",
              "    <tr>\n",
              "      <th>165</th>\n",
              "      <td>0</td>\n",
              "      <td>Yemen</td>\n",
              "    </tr>\n",
              "    <tr>\n",
              "      <th>166</th>\n",
              "      <td>0</td>\n",
              "      <td>Zambia</td>\n",
              "    </tr>\n",
              "  </tbody>\n",
              "</table>\n",
              "<p>167 rows × 2 columns</p>\n",
              "</div>\n",
              "      <button class=\"colab-df-convert\" onclick=\"convertToInteractive('df-84e3552a-0283-4c6e-8df7-4ec81a02f50c')\"\n",
              "              title=\"Convert this dataframe to an interactive table.\"\n",
              "              style=\"display:none;\">\n",
              "        \n",
              "  <svg xmlns=\"http://www.w3.org/2000/svg\" height=\"24px\"viewBox=\"0 0 24 24\"\n",
              "       width=\"24px\">\n",
              "    <path d=\"M0 0h24v24H0V0z\" fill=\"none\"/>\n",
              "    <path d=\"M18.56 5.44l.94 2.06.94-2.06 2.06-.94-2.06-.94-.94-2.06-.94 2.06-2.06.94zm-11 1L8.5 8.5l.94-2.06 2.06-.94-2.06-.94L8.5 2.5l-.94 2.06-2.06.94zm10 10l.94 2.06.94-2.06 2.06-.94-2.06-.94-.94-2.06-.94 2.06-2.06.94z\"/><path d=\"M17.41 7.96l-1.37-1.37c-.4-.4-.92-.59-1.43-.59-.52 0-1.04.2-1.43.59L10.3 9.45l-7.72 7.72c-.78.78-.78 2.05 0 2.83L4 21.41c.39.39.9.59 1.41.59.51 0 1.02-.2 1.41-.59l7.78-7.78 2.81-2.81c.8-.78.8-2.07 0-2.86zM5.41 20L4 18.59l7.72-7.72 1.47 1.35L5.41 20z\"/>\n",
              "  </svg>\n",
              "      </button>\n",
              "      \n",
              "  <style>\n",
              "    .colab-df-container {\n",
              "      display:flex;\n",
              "      flex-wrap:wrap;\n",
              "      gap: 12px;\n",
              "    }\n",
              "\n",
              "    .colab-df-convert {\n",
              "      background-color: #E8F0FE;\n",
              "      border: none;\n",
              "      border-radius: 50%;\n",
              "      cursor: pointer;\n",
              "      display: none;\n",
              "      fill: #1967D2;\n",
              "      height: 32px;\n",
              "      padding: 0 0 0 0;\n",
              "      width: 32px;\n",
              "    }\n",
              "\n",
              "    .colab-df-convert:hover {\n",
              "      background-color: #E2EBFA;\n",
              "      box-shadow: 0px 1px 2px rgba(60, 64, 67, 0.3), 0px 1px 3px 1px rgba(60, 64, 67, 0.15);\n",
              "      fill: #174EA6;\n",
              "    }\n",
              "\n",
              "    [theme=dark] .colab-df-convert {\n",
              "      background-color: #3B4455;\n",
              "      fill: #D2E3FC;\n",
              "    }\n",
              "\n",
              "    [theme=dark] .colab-df-convert:hover {\n",
              "      background-color: #434B5C;\n",
              "      box-shadow: 0px 1px 3px 1px rgba(0, 0, 0, 0.15);\n",
              "      filter: drop-shadow(0px 1px 2px rgba(0, 0, 0, 0.3));\n",
              "      fill: #FFFFFF;\n",
              "    }\n",
              "  </style>\n",
              "\n",
              "      <script>\n",
              "        const buttonEl =\n",
              "          document.querySelector('#df-84e3552a-0283-4c6e-8df7-4ec81a02f50c button.colab-df-convert');\n",
              "        buttonEl.style.display =\n",
              "          google.colab.kernel.accessAllowed ? 'block' : 'none';\n",
              "\n",
              "        async function convertToInteractive(key) {\n",
              "          const element = document.querySelector('#df-84e3552a-0283-4c6e-8df7-4ec81a02f50c');\n",
              "          const dataTable =\n",
              "            await google.colab.kernel.invokeFunction('convertToInteractive',\n",
              "                                                     [key], {});\n",
              "          if (!dataTable) return;\n",
              "\n",
              "          const docLinkHtml = 'Like what you see? Visit the ' +\n",
              "            '<a target=\"_blank\" href=https://colab.research.google.com/notebooks/data_table.ipynb>data table notebook</a>'\n",
              "            + ' to learn more about interactive tables.';\n",
              "          element.innerHTML = '';\n",
              "          dataTable['output_type'] = 'display_data';\n",
              "          await google.colab.output.renderOutput(dataTable, element);\n",
              "          const docLink = document.createElement('div');\n",
              "          docLink.innerHTML = docLinkHtml;\n",
              "          element.appendChild(docLink);\n",
              "        }\n",
              "      </script>\n",
              "    </div>\n",
              "  </div>\n",
              "  "
            ]
          },
          "metadata": {},
          "execution_count": 119
        }
      ]
    },
    {
      "cell_type": "code",
      "source": [
        "# Countries in cluster 0\n",
        "print(\"Cluster 0: \")\n",
        "list(output[output[0] == 0][\"country\"])"
      ],
      "metadata": {
        "colab": {
          "base_uri": "https://localhost:8080/"
        },
        "id": "DkJd170HeJYy",
        "outputId": "26ef7a3c-4e4a-48fd-9cbd-099368103136"
      },
      "execution_count": 120,
      "outputs": [
        {
          "output_type": "stream",
          "name": "stdout",
          "text": [
            "Cluster 0: \n"
          ]
        },
        {
          "output_type": "execute_result",
          "data": {
            "text/plain": [
              "['Afghanistan',\n",
              " 'Angola',\n",
              " 'Benin',\n",
              " 'Botswana',\n",
              " 'Burkina Faso',\n",
              " 'Burundi',\n",
              " 'Cameroon',\n",
              " 'Central African Republic',\n",
              " 'Chad',\n",
              " 'Comoros',\n",
              " 'Congo, Dem. Rep.',\n",
              " 'Congo, Rep.',\n",
              " \"Cote d'Ivoire\",\n",
              " 'Equatorial Guinea',\n",
              " 'Eritrea',\n",
              " 'Gabon',\n",
              " 'Gambia',\n",
              " 'Ghana',\n",
              " 'Guinea',\n",
              " 'Guinea-Bissau',\n",
              " 'Haiti',\n",
              " 'Iraq',\n",
              " 'Kenya',\n",
              " 'Kiribati',\n",
              " 'Lao',\n",
              " 'Lesotho',\n",
              " 'Liberia',\n",
              " 'Madagascar',\n",
              " 'Malawi',\n",
              " 'Mali',\n",
              " 'Mauritania',\n",
              " 'Mozambique',\n",
              " 'Namibia',\n",
              " 'Niger',\n",
              " 'Nigeria',\n",
              " 'Pakistan',\n",
              " 'Rwanda',\n",
              " 'Senegal',\n",
              " 'Sierra Leone',\n",
              " 'South Africa',\n",
              " 'Sudan',\n",
              " 'Tanzania',\n",
              " 'Timor-Leste',\n",
              " 'Togo',\n",
              " 'Uganda',\n",
              " 'Yemen',\n",
              " 'Zambia']"
            ]
          },
          "metadata": {},
          "execution_count": 120
        }
      ]
    },
    {
      "cell_type": "code",
      "source": [
        "# Countries in cluster 1\n",
        "print(\"Cluster 1: \")\n",
        "list(output[output[0] == 1][\"country\"])"
      ],
      "metadata": {
        "colab": {
          "base_uri": "https://localhost:8080/"
        },
        "id": "oxMphshUkUG-",
        "outputId": "84330a2e-f84f-4d94-aee6-a88b9129fd6c"
      },
      "execution_count": 121,
      "outputs": [
        {
          "output_type": "stream",
          "name": "stdout",
          "text": [
            "Cluster 1: \n"
          ]
        },
        {
          "output_type": "execute_result",
          "data": {
            "text/plain": [
              "['Luxembourg', 'Malta', 'Singapore']"
            ]
          },
          "metadata": {},
          "execution_count": 121
        }
      ]
    },
    {
      "cell_type": "code",
      "source": [
        "# Countries in cluster 2\n",
        "print(\"Cluster 2: \")\n",
        "list(output[output[0] == 2][\"country\"])"
      ],
      "metadata": {
        "colab": {
          "base_uri": "https://localhost:8080/"
        },
        "id": "LxJiOmVdkWQj",
        "outputId": "c727cd02-e60f-4a3c-f74b-9c7c526cb15f"
      },
      "execution_count": 122,
      "outputs": [
        {
          "output_type": "stream",
          "name": "stdout",
          "text": [
            "Cluster 2: \n"
          ]
        },
        {
          "output_type": "execute_result",
          "data": {
            "text/plain": [
              "['Albania',\n",
              " 'Algeria',\n",
              " 'Antigua and Barbuda',\n",
              " 'Argentina',\n",
              " 'Armenia',\n",
              " 'Azerbaijan',\n",
              " 'Bahamas',\n",
              " 'Bahrain',\n",
              " 'Bangladesh',\n",
              " 'Barbados',\n",
              " 'Belarus',\n",
              " 'Belize',\n",
              " 'Bhutan',\n",
              " 'Bolivia',\n",
              " 'Bosnia and Herzegovina',\n",
              " 'Brazil',\n",
              " 'Bulgaria',\n",
              " 'Cambodia',\n",
              " 'Cape Verde',\n",
              " 'Chile',\n",
              " 'China',\n",
              " 'Colombia',\n",
              " 'Costa Rica',\n",
              " 'Croatia',\n",
              " 'Czech Republic',\n",
              " 'Dominican Republic',\n",
              " 'Ecuador',\n",
              " 'Egypt',\n",
              " 'El Salvador',\n",
              " 'Estonia',\n",
              " 'Fiji',\n",
              " 'Georgia',\n",
              " 'Grenada',\n",
              " 'Guatemala',\n",
              " 'Guyana',\n",
              " 'Hungary',\n",
              " 'India',\n",
              " 'Indonesia',\n",
              " 'Iran',\n",
              " 'Jamaica',\n",
              " 'Jordan',\n",
              " 'Kazakhstan',\n",
              " 'Kyrgyz Republic',\n",
              " 'Latvia',\n",
              " 'Lebanon',\n",
              " 'Libya',\n",
              " 'Lithuania',\n",
              " 'Macedonia, FYR',\n",
              " 'Malaysia',\n",
              " 'Maldives',\n",
              " 'Mauritius',\n",
              " 'Micronesia, Fed. Sts.',\n",
              " 'Moldova',\n",
              " 'Mongolia',\n",
              " 'Montenegro',\n",
              " 'Morocco',\n",
              " 'Myanmar',\n",
              " 'Nepal',\n",
              " 'Oman',\n",
              " 'Panama',\n",
              " 'Paraguay',\n",
              " 'Peru',\n",
              " 'Philippines',\n",
              " 'Poland',\n",
              " 'Romania',\n",
              " 'Russia',\n",
              " 'Samoa',\n",
              " 'Saudi Arabia',\n",
              " 'Serbia',\n",
              " 'Seychelles',\n",
              " 'Slovak Republic',\n",
              " 'Solomon Islands',\n",
              " 'Sri Lanka',\n",
              " 'St. Vincent and the Grenadines',\n",
              " 'Suriname',\n",
              " 'Tajikistan',\n",
              " 'Thailand',\n",
              " 'Tonga',\n",
              " 'Tunisia',\n",
              " 'Turkey',\n",
              " 'Turkmenistan',\n",
              " 'Ukraine',\n",
              " 'Uruguay',\n",
              " 'Uzbekistan',\n",
              " 'Vanuatu',\n",
              " 'Venezuela',\n",
              " 'Vietnam']"
            ]
          },
          "metadata": {},
          "execution_count": 122
        }
      ]
    },
    {
      "cell_type": "code",
      "source": [
        "# Countries in cluster 3\n",
        "print(\"Cluster 3: \")\n",
        "list(output[output[0] == 3][\"country\"])"
      ],
      "metadata": {
        "colab": {
          "base_uri": "https://localhost:8080/"
        },
        "id": "wVFlyIoCuRw9",
        "outputId": "d9dfff56-c026-4e7c-a4b5-058c9ffa0055"
      },
      "execution_count": 123,
      "outputs": [
        {
          "output_type": "stream",
          "name": "stdout",
          "text": [
            "Cluster 3: \n"
          ]
        },
        {
          "output_type": "execute_result",
          "data": {
            "text/plain": [
              "['Australia',\n",
              " 'Austria',\n",
              " 'Belgium',\n",
              " 'Brunei',\n",
              " 'Canada',\n",
              " 'Cyprus',\n",
              " 'Denmark',\n",
              " 'Finland',\n",
              " 'France',\n",
              " 'Germany',\n",
              " 'Greece',\n",
              " 'Iceland',\n",
              " 'Ireland',\n",
              " 'Israel',\n",
              " 'Italy',\n",
              " 'Japan',\n",
              " 'Kuwait',\n",
              " 'Netherlands',\n",
              " 'New Zealand',\n",
              " 'Norway',\n",
              " 'Portugal',\n",
              " 'Qatar',\n",
              " 'Slovenia',\n",
              " 'South Korea',\n",
              " 'Spain',\n",
              " 'Sweden',\n",
              " 'Switzerland',\n",
              " 'United Arab Emirates',\n",
              " 'United Kingdom',\n",
              " 'United States']"
            ]
          },
          "metadata": {},
          "execution_count": 123
        }
      ]
    },
    {
      "cell_type": "markdown",
      "source": [
        "Cluster 0 contains mostly African countries. Cluster 1 is comprised of three very small countries. Cluster 4 seems to align with the high income economies classified by the World Bank."
      ],
      "metadata": {
        "id": "lrmCwyr7tL3h"
      }
    },
    {
      "cell_type": "markdown",
      "source": [
        "#6.) Create a table of Descriptive Statistics. Rows being the Cluster number and columns being all the features. Values being the mean of the centroid. Use the nonscaled X values for interpretation"
      ],
      "metadata": {
        "id": "nEmf0AxkTJc1"
      }
    },
    {
      "cell_type": "code",
      "source": [
        "# Append cluster labels to the features\n",
        "stats = pd.concat([output, X], axis = 1)\n",
        "stats # Now we can see the original features for each country + the cluster label"
      ],
      "metadata": {
        "id": "ELmUB7bMTIJL",
        "colab": {
          "base_uri": "https://localhost:8080/",
          "height": 522
        },
        "outputId": "4c2aa1ef-c137-4cae-9537-d52dd41e9087"
      },
      "execution_count": 126,
      "outputs": [
        {
          "output_type": "execute_result",
          "data": {
            "text/plain": [
              "     0              country  child_mort  exports  health  imports  income  \\\n",
              "0    0          Afghanistan        90.2     10.0    7.58     44.9    1610   \n",
              "1    2              Albania        16.6     28.0    6.55     48.6    9930   \n",
              "2    2              Algeria        27.3     38.4    4.17     31.4   12900   \n",
              "3    0               Angola       119.0     62.3    2.85     42.9    5900   \n",
              "4    2  Antigua and Barbuda        10.3     45.5    6.03     58.9   19100   \n",
              "..  ..                  ...         ...      ...     ...      ...     ...   \n",
              "162  2              Vanuatu        29.2     46.6    5.25     52.7    2950   \n",
              "163  2            Venezuela        17.1     28.5    4.91     17.6   16500   \n",
              "164  2              Vietnam        23.3     72.0    6.84     80.2    4490   \n",
              "165  0                Yemen        56.3     30.0    5.18     34.4    4480   \n",
              "166  0               Zambia        83.1     37.0    5.89     30.9    3280   \n",
              "\n",
              "     inflation  life_expec  total_fer   gdpp  \n",
              "0         9.44        56.2       5.82    553  \n",
              "1         4.49        76.3       1.65   4090  \n",
              "2        16.10        76.5       2.89   4460  \n",
              "3        22.40        60.1       6.16   3530  \n",
              "4         1.44        76.8       2.13  12200  \n",
              "..         ...         ...        ...    ...  \n",
              "162       2.62        63.0       3.50   2970  \n",
              "163      45.90        75.4       2.47  13500  \n",
              "164      12.10        73.1       1.95   1310  \n",
              "165      23.60        67.5       4.67   1310  \n",
              "166      14.00        52.0       5.40   1460  \n",
              "\n",
              "[167 rows x 11 columns]"
            ],
            "text/html": [
              "\n",
              "  <div id=\"df-3593b6ab-ffc7-4b2d-8a59-850d85fe079b\">\n",
              "    <div class=\"colab-df-container\">\n",
              "      <div>\n",
              "<style scoped>\n",
              "    .dataframe tbody tr th:only-of-type {\n",
              "        vertical-align: middle;\n",
              "    }\n",
              "\n",
              "    .dataframe tbody tr th {\n",
              "        vertical-align: top;\n",
              "    }\n",
              "\n",
              "    .dataframe thead th {\n",
              "        text-align: right;\n",
              "    }\n",
              "</style>\n",
              "<table border=\"1\" class=\"dataframe\">\n",
              "  <thead>\n",
              "    <tr style=\"text-align: right;\">\n",
              "      <th></th>\n",
              "      <th>0</th>\n",
              "      <th>country</th>\n",
              "      <th>child_mort</th>\n",
              "      <th>exports</th>\n",
              "      <th>health</th>\n",
              "      <th>imports</th>\n",
              "      <th>income</th>\n",
              "      <th>inflation</th>\n",
              "      <th>life_expec</th>\n",
              "      <th>total_fer</th>\n",
              "      <th>gdpp</th>\n",
              "    </tr>\n",
              "  </thead>\n",
              "  <tbody>\n",
              "    <tr>\n",
              "      <th>0</th>\n",
              "      <td>0</td>\n",
              "      <td>Afghanistan</td>\n",
              "      <td>90.2</td>\n",
              "      <td>10.0</td>\n",
              "      <td>7.58</td>\n",
              "      <td>44.9</td>\n",
              "      <td>1610</td>\n",
              "      <td>9.44</td>\n",
              "      <td>56.2</td>\n",
              "      <td>5.82</td>\n",
              "      <td>553</td>\n",
              "    </tr>\n",
              "    <tr>\n",
              "      <th>1</th>\n",
              "      <td>2</td>\n",
              "      <td>Albania</td>\n",
              "      <td>16.6</td>\n",
              "      <td>28.0</td>\n",
              "      <td>6.55</td>\n",
              "      <td>48.6</td>\n",
              "      <td>9930</td>\n",
              "      <td>4.49</td>\n",
              "      <td>76.3</td>\n",
              "      <td>1.65</td>\n",
              "      <td>4090</td>\n",
              "    </tr>\n",
              "    <tr>\n",
              "      <th>2</th>\n",
              "      <td>2</td>\n",
              "      <td>Algeria</td>\n",
              "      <td>27.3</td>\n",
              "      <td>38.4</td>\n",
              "      <td>4.17</td>\n",
              "      <td>31.4</td>\n",
              "      <td>12900</td>\n",
              "      <td>16.10</td>\n",
              "      <td>76.5</td>\n",
              "      <td>2.89</td>\n",
              "      <td>4460</td>\n",
              "    </tr>\n",
              "    <tr>\n",
              "      <th>3</th>\n",
              "      <td>0</td>\n",
              "      <td>Angola</td>\n",
              "      <td>119.0</td>\n",
              "      <td>62.3</td>\n",
              "      <td>2.85</td>\n",
              "      <td>42.9</td>\n",
              "      <td>5900</td>\n",
              "      <td>22.40</td>\n",
              "      <td>60.1</td>\n",
              "      <td>6.16</td>\n",
              "      <td>3530</td>\n",
              "    </tr>\n",
              "    <tr>\n",
              "      <th>4</th>\n",
              "      <td>2</td>\n",
              "      <td>Antigua and Barbuda</td>\n",
              "      <td>10.3</td>\n",
              "      <td>45.5</td>\n",
              "      <td>6.03</td>\n",
              "      <td>58.9</td>\n",
              "      <td>19100</td>\n",
              "      <td>1.44</td>\n",
              "      <td>76.8</td>\n",
              "      <td>2.13</td>\n",
              "      <td>12200</td>\n",
              "    </tr>\n",
              "    <tr>\n",
              "      <th>...</th>\n",
              "      <td>...</td>\n",
              "      <td>...</td>\n",
              "      <td>...</td>\n",
              "      <td>...</td>\n",
              "      <td>...</td>\n",
              "      <td>...</td>\n",
              "      <td>...</td>\n",
              "      <td>...</td>\n",
              "      <td>...</td>\n",
              "      <td>...</td>\n",
              "      <td>...</td>\n",
              "    </tr>\n",
              "    <tr>\n",
              "      <th>162</th>\n",
              "      <td>2</td>\n",
              "      <td>Vanuatu</td>\n",
              "      <td>29.2</td>\n",
              "      <td>46.6</td>\n",
              "      <td>5.25</td>\n",
              "      <td>52.7</td>\n",
              "      <td>2950</td>\n",
              "      <td>2.62</td>\n",
              "      <td>63.0</td>\n",
              "      <td>3.50</td>\n",
              "      <td>2970</td>\n",
              "    </tr>\n",
              "    <tr>\n",
              "      <th>163</th>\n",
              "      <td>2</td>\n",
              "      <td>Venezuela</td>\n",
              "      <td>17.1</td>\n",
              "      <td>28.5</td>\n",
              "      <td>4.91</td>\n",
              "      <td>17.6</td>\n",
              "      <td>16500</td>\n",
              "      <td>45.90</td>\n",
              "      <td>75.4</td>\n",
              "      <td>2.47</td>\n",
              "      <td>13500</td>\n",
              "    </tr>\n",
              "    <tr>\n",
              "      <th>164</th>\n",
              "      <td>2</td>\n",
              "      <td>Vietnam</td>\n",
              "      <td>23.3</td>\n",
              "      <td>72.0</td>\n",
              "      <td>6.84</td>\n",
              "      <td>80.2</td>\n",
              "      <td>4490</td>\n",
              "      <td>12.10</td>\n",
              "      <td>73.1</td>\n",
              "      <td>1.95</td>\n",
              "      <td>1310</td>\n",
              "    </tr>\n",
              "    <tr>\n",
              "      <th>165</th>\n",
              "      <td>0</td>\n",
              "      <td>Yemen</td>\n",
              "      <td>56.3</td>\n",
              "      <td>30.0</td>\n",
              "      <td>5.18</td>\n",
              "      <td>34.4</td>\n",
              "      <td>4480</td>\n",
              "      <td>23.60</td>\n",
              "      <td>67.5</td>\n",
              "      <td>4.67</td>\n",
              "      <td>1310</td>\n",
              "    </tr>\n",
              "    <tr>\n",
              "      <th>166</th>\n",
              "      <td>0</td>\n",
              "      <td>Zambia</td>\n",
              "      <td>83.1</td>\n",
              "      <td>37.0</td>\n",
              "      <td>5.89</td>\n",
              "      <td>30.9</td>\n",
              "      <td>3280</td>\n",
              "      <td>14.00</td>\n",
              "      <td>52.0</td>\n",
              "      <td>5.40</td>\n",
              "      <td>1460</td>\n",
              "    </tr>\n",
              "  </tbody>\n",
              "</table>\n",
              "<p>167 rows × 11 columns</p>\n",
              "</div>\n",
              "      <button class=\"colab-df-convert\" onclick=\"convertToInteractive('df-3593b6ab-ffc7-4b2d-8a59-850d85fe079b')\"\n",
              "              title=\"Convert this dataframe to an interactive table.\"\n",
              "              style=\"display:none;\">\n",
              "        \n",
              "  <svg xmlns=\"http://www.w3.org/2000/svg\" height=\"24px\"viewBox=\"0 0 24 24\"\n",
              "       width=\"24px\">\n",
              "    <path d=\"M0 0h24v24H0V0z\" fill=\"none\"/>\n",
              "    <path d=\"M18.56 5.44l.94 2.06.94-2.06 2.06-.94-2.06-.94-.94-2.06-.94 2.06-2.06.94zm-11 1L8.5 8.5l.94-2.06 2.06-.94-2.06-.94L8.5 2.5l-.94 2.06-2.06.94zm10 10l.94 2.06.94-2.06 2.06-.94-2.06-.94-.94-2.06-.94 2.06-2.06.94z\"/><path d=\"M17.41 7.96l-1.37-1.37c-.4-.4-.92-.59-1.43-.59-.52 0-1.04.2-1.43.59L10.3 9.45l-7.72 7.72c-.78.78-.78 2.05 0 2.83L4 21.41c.39.39.9.59 1.41.59.51 0 1.02-.2 1.41-.59l7.78-7.78 2.81-2.81c.8-.78.8-2.07 0-2.86zM5.41 20L4 18.59l7.72-7.72 1.47 1.35L5.41 20z\"/>\n",
              "  </svg>\n",
              "      </button>\n",
              "      \n",
              "  <style>\n",
              "    .colab-df-container {\n",
              "      display:flex;\n",
              "      flex-wrap:wrap;\n",
              "      gap: 12px;\n",
              "    }\n",
              "\n",
              "    .colab-df-convert {\n",
              "      background-color: #E8F0FE;\n",
              "      border: none;\n",
              "      border-radius: 50%;\n",
              "      cursor: pointer;\n",
              "      display: none;\n",
              "      fill: #1967D2;\n",
              "      height: 32px;\n",
              "      padding: 0 0 0 0;\n",
              "      width: 32px;\n",
              "    }\n",
              "\n",
              "    .colab-df-convert:hover {\n",
              "      background-color: #E2EBFA;\n",
              "      box-shadow: 0px 1px 2px rgba(60, 64, 67, 0.3), 0px 1px 3px 1px rgba(60, 64, 67, 0.15);\n",
              "      fill: #174EA6;\n",
              "    }\n",
              "\n",
              "    [theme=dark] .colab-df-convert {\n",
              "      background-color: #3B4455;\n",
              "      fill: #D2E3FC;\n",
              "    }\n",
              "\n",
              "    [theme=dark] .colab-df-convert:hover {\n",
              "      background-color: #434B5C;\n",
              "      box-shadow: 0px 1px 3px 1px rgba(0, 0, 0, 0.15);\n",
              "      filter: drop-shadow(0px 1px 2px rgba(0, 0, 0, 0.3));\n",
              "      fill: #FFFFFF;\n",
              "    }\n",
              "  </style>\n",
              "\n",
              "      <script>\n",
              "        const buttonEl =\n",
              "          document.querySelector('#df-3593b6ab-ffc7-4b2d-8a59-850d85fe079b button.colab-df-convert');\n",
              "        buttonEl.style.display =\n",
              "          google.colab.kernel.accessAllowed ? 'block' : 'none';\n",
              "\n",
              "        async function convertToInteractive(key) {\n",
              "          const element = document.querySelector('#df-3593b6ab-ffc7-4b2d-8a59-850d85fe079b');\n",
              "          const dataTable =\n",
              "            await google.colab.kernel.invokeFunction('convertToInteractive',\n",
              "                                                     [key], {});\n",
              "          if (!dataTable) return;\n",
              "\n",
              "          const docLinkHtml = 'Like what you see? Visit the ' +\n",
              "            '<a target=\"_blank\" href=https://colab.research.google.com/notebooks/data_table.ipynb>data table notebook</a>'\n",
              "            + ' to learn more about interactive tables.';\n",
              "          element.innerHTML = '';\n",
              "          dataTable['output_type'] = 'display_data';\n",
              "          await google.colab.output.renderOutput(dataTable, element);\n",
              "          const docLink = document.createElement('div');\n",
              "          docLink.innerHTML = docLinkHtml;\n",
              "          element.appendChild(docLink);\n",
              "        }\n",
              "      </script>\n",
              "    </div>\n",
              "  </div>\n",
              "  "
            ]
          },
          "metadata": {},
          "execution_count": 126
        }
      ]
    },
    {
      "cell_type": "code",
      "source": [
        "stats.groupby(0).mean()"
      ],
      "metadata": {
        "id": "HpjZMgC4Smz9",
        "colab": {
          "base_uri": "https://localhost:8080/",
          "height": 270
        },
        "outputId": "2c55774e-5cb8-4ae7-8b46-1fefed896880"
      },
      "execution_count": 127,
      "outputs": [
        {
          "output_type": "execute_result",
          "data": {
            "text/plain": [
              "   child_mort     exports    health     imports        income  inflation  \\\n",
              "0                                                                          \n",
              "0   92.961702   29.151277  6.388511   42.323404   3942.404255  12.019681   \n",
              "1    4.133333  176.000000  6.793333  156.666667  64033.333333   2.468000   \n",
              "2   21.389655   41.290678  6.235862   48.038689  12968.620690   7.413460   \n",
              "3    4.953333   45.826667  9.168667   39.736667  45250.000000   2.742200   \n",
              "\n",
              "   life_expec  total_fer          gdpp  \n",
              "0                                       \n",
              "0   59.187234   5.008085   1922.382979  \n",
              "1   81.433333   1.380000  57566.666667  \n",
              "2   72.935632   2.286552   6919.103448  \n",
              "3   80.376667   1.795333  43333.333333  "
            ],
            "text/html": [
              "\n",
              "  <div id=\"df-14f9c04a-428c-4174-965f-22da2f495992\">\n",
              "    <div class=\"colab-df-container\">\n",
              "      <div>\n",
              "<style scoped>\n",
              "    .dataframe tbody tr th:only-of-type {\n",
              "        vertical-align: middle;\n",
              "    }\n",
              "\n",
              "    .dataframe tbody tr th {\n",
              "        vertical-align: top;\n",
              "    }\n",
              "\n",
              "    .dataframe thead th {\n",
              "        text-align: right;\n",
              "    }\n",
              "</style>\n",
              "<table border=\"1\" class=\"dataframe\">\n",
              "  <thead>\n",
              "    <tr style=\"text-align: right;\">\n",
              "      <th></th>\n",
              "      <th>child_mort</th>\n",
              "      <th>exports</th>\n",
              "      <th>health</th>\n",
              "      <th>imports</th>\n",
              "      <th>income</th>\n",
              "      <th>inflation</th>\n",
              "      <th>life_expec</th>\n",
              "      <th>total_fer</th>\n",
              "      <th>gdpp</th>\n",
              "    </tr>\n",
              "    <tr>\n",
              "      <th>0</th>\n",
              "      <th></th>\n",
              "      <th></th>\n",
              "      <th></th>\n",
              "      <th></th>\n",
              "      <th></th>\n",
              "      <th></th>\n",
              "      <th></th>\n",
              "      <th></th>\n",
              "      <th></th>\n",
              "    </tr>\n",
              "  </thead>\n",
              "  <tbody>\n",
              "    <tr>\n",
              "      <th>0</th>\n",
              "      <td>92.961702</td>\n",
              "      <td>29.151277</td>\n",
              "      <td>6.388511</td>\n",
              "      <td>42.323404</td>\n",
              "      <td>3942.404255</td>\n",
              "      <td>12.019681</td>\n",
              "      <td>59.187234</td>\n",
              "      <td>5.008085</td>\n",
              "      <td>1922.382979</td>\n",
              "    </tr>\n",
              "    <tr>\n",
              "      <th>1</th>\n",
              "      <td>4.133333</td>\n",
              "      <td>176.000000</td>\n",
              "      <td>6.793333</td>\n",
              "      <td>156.666667</td>\n",
              "      <td>64033.333333</td>\n",
              "      <td>2.468000</td>\n",
              "      <td>81.433333</td>\n",
              "      <td>1.380000</td>\n",
              "      <td>57566.666667</td>\n",
              "    </tr>\n",
              "    <tr>\n",
              "      <th>2</th>\n",
              "      <td>21.389655</td>\n",
              "      <td>41.290678</td>\n",
              "      <td>6.235862</td>\n",
              "      <td>48.038689</td>\n",
              "      <td>12968.620690</td>\n",
              "      <td>7.413460</td>\n",
              "      <td>72.935632</td>\n",
              "      <td>2.286552</td>\n",
              "      <td>6919.103448</td>\n",
              "    </tr>\n",
              "    <tr>\n",
              "      <th>3</th>\n",
              "      <td>4.953333</td>\n",
              "      <td>45.826667</td>\n",
              "      <td>9.168667</td>\n",
              "      <td>39.736667</td>\n",
              "      <td>45250.000000</td>\n",
              "      <td>2.742200</td>\n",
              "      <td>80.376667</td>\n",
              "      <td>1.795333</td>\n",
              "      <td>43333.333333</td>\n",
              "    </tr>\n",
              "  </tbody>\n",
              "</table>\n",
              "</div>\n",
              "      <button class=\"colab-df-convert\" onclick=\"convertToInteractive('df-14f9c04a-428c-4174-965f-22da2f495992')\"\n",
              "              title=\"Convert this dataframe to an interactive table.\"\n",
              "              style=\"display:none;\">\n",
              "        \n",
              "  <svg xmlns=\"http://www.w3.org/2000/svg\" height=\"24px\"viewBox=\"0 0 24 24\"\n",
              "       width=\"24px\">\n",
              "    <path d=\"M0 0h24v24H0V0z\" fill=\"none\"/>\n",
              "    <path d=\"M18.56 5.44l.94 2.06.94-2.06 2.06-.94-2.06-.94-.94-2.06-.94 2.06-2.06.94zm-11 1L8.5 8.5l.94-2.06 2.06-.94-2.06-.94L8.5 2.5l-.94 2.06-2.06.94zm10 10l.94 2.06.94-2.06 2.06-.94-2.06-.94-.94-2.06-.94 2.06-2.06.94z\"/><path d=\"M17.41 7.96l-1.37-1.37c-.4-.4-.92-.59-1.43-.59-.52 0-1.04.2-1.43.59L10.3 9.45l-7.72 7.72c-.78.78-.78 2.05 0 2.83L4 21.41c.39.39.9.59 1.41.59.51 0 1.02-.2 1.41-.59l7.78-7.78 2.81-2.81c.8-.78.8-2.07 0-2.86zM5.41 20L4 18.59l7.72-7.72 1.47 1.35L5.41 20z\"/>\n",
              "  </svg>\n",
              "      </button>\n",
              "      \n",
              "  <style>\n",
              "    .colab-df-container {\n",
              "      display:flex;\n",
              "      flex-wrap:wrap;\n",
              "      gap: 12px;\n",
              "    }\n",
              "\n",
              "    .colab-df-convert {\n",
              "      background-color: #E8F0FE;\n",
              "      border: none;\n",
              "      border-radius: 50%;\n",
              "      cursor: pointer;\n",
              "      display: none;\n",
              "      fill: #1967D2;\n",
              "      height: 32px;\n",
              "      padding: 0 0 0 0;\n",
              "      width: 32px;\n",
              "    }\n",
              "\n",
              "    .colab-df-convert:hover {\n",
              "      background-color: #E2EBFA;\n",
              "      box-shadow: 0px 1px 2px rgba(60, 64, 67, 0.3), 0px 1px 3px 1px rgba(60, 64, 67, 0.15);\n",
              "      fill: #174EA6;\n",
              "    }\n",
              "\n",
              "    [theme=dark] .colab-df-convert {\n",
              "      background-color: #3B4455;\n",
              "      fill: #D2E3FC;\n",
              "    }\n",
              "\n",
              "    [theme=dark] .colab-df-convert:hover {\n",
              "      background-color: #434B5C;\n",
              "      box-shadow: 0px 1px 3px 1px rgba(0, 0, 0, 0.15);\n",
              "      filter: drop-shadow(0px 1px 2px rgba(0, 0, 0, 0.3));\n",
              "      fill: #FFFFFF;\n",
              "    }\n",
              "  </style>\n",
              "\n",
              "      <script>\n",
              "        const buttonEl =\n",
              "          document.querySelector('#df-14f9c04a-428c-4174-965f-22da2f495992 button.colab-df-convert');\n",
              "        buttonEl.style.display =\n",
              "          google.colab.kernel.accessAllowed ? 'block' : 'none';\n",
              "\n",
              "        async function convertToInteractive(key) {\n",
              "          const element = document.querySelector('#df-14f9c04a-428c-4174-965f-22da2f495992');\n",
              "          const dataTable =\n",
              "            await google.colab.kernel.invokeFunction('convertToInteractive',\n",
              "                                                     [key], {});\n",
              "          if (!dataTable) return;\n",
              "\n",
              "          const docLinkHtml = 'Like what you see? Visit the ' +\n",
              "            '<a target=\"_blank\" href=https://colab.research.google.com/notebooks/data_table.ipynb>data table notebook</a>'\n",
              "            + ' to learn more about interactive tables.';\n",
              "          element.innerHTML = '';\n",
              "          dataTable['output_type'] = 'display_data';\n",
              "          await google.colab.output.renderOutput(dataTable, element);\n",
              "          const docLink = document.createElement('div');\n",
              "          docLink.innerHTML = docLinkHtml;\n",
              "          element.appendChild(docLink);\n",
              "        }\n",
              "      </script>\n",
              "    </div>\n",
              "  </div>\n",
              "  "
            ]
          },
          "metadata": {},
          "execution_count": 127
        }
      ]
    },
    {
      "cell_type": "markdown",
      "source": [
        "# Q7.) Write an observation about the descriptive statistics."
      ],
      "metadata": {
        "id": "x_rQZjMrUKY8"
      }
    },
    {
      "cell_type": "markdown",
      "source": [
        "As noted earlier, cluster 1 includes three small countries. Based on the descriptive statistics, we see that on average, the features of cluster 1 are nearly identical to those of cluster 4 (which are almost certainly the high income economies as classified by the World Bank), with the only differences being in terms of exports and imports. More specifically, the small countries in cluster 1 have significantly higher exports and imports compared to those in cluster 4."
      ],
      "metadata": {
        "id": "0o6IVkvLwZMX"
      }
    }
  ]
}